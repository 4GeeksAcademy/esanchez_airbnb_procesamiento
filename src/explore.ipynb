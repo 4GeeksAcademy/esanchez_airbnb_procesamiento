{
    "cells": [
        {
            "cell_type": "markdown",
            "metadata": {},
            "source": [
                "# Explore here"
            ]
        },
        {
            "cell_type": "code",
            "execution_count": null,
            "metadata": {},
            "outputs": [],
            "source": [
                "!pip install statsmodels\n",
                "!pip install category_encoders"
            ]
        },
        {
            "cell_type": "code",
            "execution_count": 3,
            "metadata": {},
            "outputs": [],
            "source": [
                "import pandas as pd\n",
                "import numpy as np\n",
                "import matplotlib.pyplot as plt\n",
                "import category_encoders as ce\n",
                "from sklearn.model_selection import train_test_split\n",
                "import statsmodels.api as sm\n",
                "import xgboost as xgb\n",
                "import seaborn as sns"
            ]
        },
        {
            "cell_type": "code",
            "execution_count": 4,
            "metadata": {},
            "outputs": [
                {
                    "data": {
                        "text/html": [
                            "<div>\n",
                            "<style scoped>\n",
                            "    .dataframe tbody tr th:only-of-type {\n",
                            "        vertical-align: middle;\n",
                            "    }\n",
                            "\n",
                            "    .dataframe tbody tr th {\n",
                            "        vertical-align: top;\n",
                            "    }\n",
                            "\n",
                            "    .dataframe thead th {\n",
                            "        text-align: right;\n",
                            "    }\n",
                            "</style>\n",
                            "<table border=\"1\" class=\"dataframe\">\n",
                            "  <thead>\n",
                            "    <tr style=\"text-align: right;\">\n",
                            "      <th></th>\n",
                            "      <th>id</th>\n",
                            "      <th>name</th>\n",
                            "      <th>host_id</th>\n",
                            "      <th>host_name</th>\n",
                            "      <th>neighbourhood_group</th>\n",
                            "      <th>neighbourhood</th>\n",
                            "      <th>latitude</th>\n",
                            "      <th>longitude</th>\n",
                            "      <th>room_type</th>\n",
                            "      <th>price</th>\n",
                            "      <th>minimum_nights</th>\n",
                            "      <th>number_of_reviews</th>\n",
                            "      <th>last_review</th>\n",
                            "      <th>reviews_per_month</th>\n",
                            "      <th>calculated_host_listings_count</th>\n",
                            "      <th>availability_365</th>\n",
                            "    </tr>\n",
                            "  </thead>\n",
                            "  <tbody>\n",
                            "    <tr>\n",
                            "      <th>0</th>\n",
                            "      <td>2539</td>\n",
                            "      <td>Clean &amp; quiet apt home by the park</td>\n",
                            "      <td>2787</td>\n",
                            "      <td>John</td>\n",
                            "      <td>Brooklyn</td>\n",
                            "      <td>Kensington</td>\n",
                            "      <td>40.64749</td>\n",
                            "      <td>-73.97237</td>\n",
                            "      <td>Private room</td>\n",
                            "      <td>149</td>\n",
                            "      <td>1</td>\n",
                            "      <td>9</td>\n",
                            "      <td>2018-10-19</td>\n",
                            "      <td>0.21</td>\n",
                            "      <td>6</td>\n",
                            "      <td>365</td>\n",
                            "    </tr>\n",
                            "    <tr>\n",
                            "      <th>1</th>\n",
                            "      <td>2595</td>\n",
                            "      <td>Skylit Midtown Castle</td>\n",
                            "      <td>2845</td>\n",
                            "      <td>Jennifer</td>\n",
                            "      <td>Manhattan</td>\n",
                            "      <td>Midtown</td>\n",
                            "      <td>40.75362</td>\n",
                            "      <td>-73.98377</td>\n",
                            "      <td>Entire home/apt</td>\n",
                            "      <td>225</td>\n",
                            "      <td>1</td>\n",
                            "      <td>45</td>\n",
                            "      <td>2019-05-21</td>\n",
                            "      <td>0.38</td>\n",
                            "      <td>2</td>\n",
                            "      <td>355</td>\n",
                            "    </tr>\n",
                            "    <tr>\n",
                            "      <th>2</th>\n",
                            "      <td>3647</td>\n",
                            "      <td>THE VILLAGE OF HARLEM....NEW YORK !</td>\n",
                            "      <td>4632</td>\n",
                            "      <td>Elisabeth</td>\n",
                            "      <td>Manhattan</td>\n",
                            "      <td>Harlem</td>\n",
                            "      <td>40.80902</td>\n",
                            "      <td>-73.94190</td>\n",
                            "      <td>Private room</td>\n",
                            "      <td>150</td>\n",
                            "      <td>3</td>\n",
                            "      <td>0</td>\n",
                            "      <td>NaN</td>\n",
                            "      <td>NaN</td>\n",
                            "      <td>1</td>\n",
                            "      <td>365</td>\n",
                            "    </tr>\n",
                            "    <tr>\n",
                            "      <th>3</th>\n",
                            "      <td>3831</td>\n",
                            "      <td>Cozy Entire Floor of Brownstone</td>\n",
                            "      <td>4869</td>\n",
                            "      <td>LisaRoxanne</td>\n",
                            "      <td>Brooklyn</td>\n",
                            "      <td>Clinton Hill</td>\n",
                            "      <td>40.68514</td>\n",
                            "      <td>-73.95976</td>\n",
                            "      <td>Entire home/apt</td>\n",
                            "      <td>89</td>\n",
                            "      <td>1</td>\n",
                            "      <td>270</td>\n",
                            "      <td>2019-07-05</td>\n",
                            "      <td>4.64</td>\n",
                            "      <td>1</td>\n",
                            "      <td>194</td>\n",
                            "    </tr>\n",
                            "    <tr>\n",
                            "      <th>4</th>\n",
                            "      <td>5022</td>\n",
                            "      <td>Entire Apt: Spacious Studio/Loft by central park</td>\n",
                            "      <td>7192</td>\n",
                            "      <td>Laura</td>\n",
                            "      <td>Manhattan</td>\n",
                            "      <td>East Harlem</td>\n",
                            "      <td>40.79851</td>\n",
                            "      <td>-73.94399</td>\n",
                            "      <td>Entire home/apt</td>\n",
                            "      <td>80</td>\n",
                            "      <td>10</td>\n",
                            "      <td>9</td>\n",
                            "      <td>2018-11-19</td>\n",
                            "      <td>0.10</td>\n",
                            "      <td>1</td>\n",
                            "      <td>0</td>\n",
                            "    </tr>\n",
                            "  </tbody>\n",
                            "</table>\n",
                            "</div>"
                        ],
                        "text/plain": [
                            "     id                                              name  host_id  \\\n",
                            "0  2539                Clean & quiet apt home by the park     2787   \n",
                            "1  2595                             Skylit Midtown Castle     2845   \n",
                            "2  3647               THE VILLAGE OF HARLEM....NEW YORK !     4632   \n",
                            "3  3831                   Cozy Entire Floor of Brownstone     4869   \n",
                            "4  5022  Entire Apt: Spacious Studio/Loft by central park     7192   \n",
                            "\n",
                            "     host_name neighbourhood_group neighbourhood  latitude  longitude  \\\n",
                            "0         John            Brooklyn    Kensington  40.64749  -73.97237   \n",
                            "1     Jennifer           Manhattan       Midtown  40.75362  -73.98377   \n",
                            "2    Elisabeth           Manhattan        Harlem  40.80902  -73.94190   \n",
                            "3  LisaRoxanne            Brooklyn  Clinton Hill  40.68514  -73.95976   \n",
                            "4        Laura           Manhattan   East Harlem  40.79851  -73.94399   \n",
                            "\n",
                            "         room_type  price  minimum_nights  number_of_reviews last_review  \\\n",
                            "0     Private room    149               1                  9  2018-10-19   \n",
                            "1  Entire home/apt    225               1                 45  2019-05-21   \n",
                            "2     Private room    150               3                  0         NaN   \n",
                            "3  Entire home/apt     89               1                270  2019-07-05   \n",
                            "4  Entire home/apt     80              10                  9  2018-11-19   \n",
                            "\n",
                            "   reviews_per_month  calculated_host_listings_count  availability_365  \n",
                            "0               0.21                               6               365  \n",
                            "1               0.38                               2               355  \n",
                            "2                NaN                               1               365  \n",
                            "3               4.64                               1               194  \n",
                            "4               0.10                               1                 0  "
                        ]
                    },
                    "execution_count": 4,
                    "metadata": {},
                    "output_type": "execute_result"
                }
            ],
            "source": [
                "#cogemos los datos de Airbnb de NYC que se encuentran en la carpeta de data / raw\n",
                "df = pd.read_csv('../data/raw/AB_NYC_2019.csv')\n",
                "df.head()"
            ]
        },
        {
            "cell_type": "code",
            "execution_count": 5,
            "metadata": {},
            "outputs": [
                {
                    "data": {
                        "text/plain": [
                            "(48895, 16)"
                        ]
                    },
                    "execution_count": 5,
                    "metadata": {},
                    "output_type": "execute_result"
                }
            ],
            "source": [
                "#miramos su dimensión\n",
                "df.shape"
            ]
        },
        {
            "cell_type": "code",
            "execution_count": 6,
            "metadata": {},
            "outputs": [
                {
                    "name": "stdout",
                    "output_type": "stream",
                    "text": [
                        "<class 'pandas.core.frame.DataFrame'>\n",
                        "RangeIndex: 48895 entries, 0 to 48894\n",
                        "Data columns (total 16 columns):\n",
                        " #   Column                          Non-Null Count  Dtype  \n",
                        "---  ------                          --------------  -----  \n",
                        " 0   id                              48895 non-null  int64  \n",
                        " 1   name                            48879 non-null  object \n",
                        " 2   host_id                         48895 non-null  int64  \n",
                        " 3   host_name                       48874 non-null  object \n",
                        " 4   neighbourhood_group             48895 non-null  object \n",
                        " 5   neighbourhood                   48895 non-null  object \n",
                        " 6   latitude                        48895 non-null  float64\n",
                        " 7   longitude                       48895 non-null  float64\n",
                        " 8   room_type                       48895 non-null  object \n",
                        " 9   price                           48895 non-null  int64  \n",
                        " 10  minimum_nights                  48895 non-null  int64  \n",
                        " 11  number_of_reviews               48895 non-null  int64  \n",
                        " 12  last_review                     38843 non-null  object \n",
                        " 13  reviews_per_month               38843 non-null  float64\n",
                        " 14  calculated_host_listings_count  48895 non-null  int64  \n",
                        " 15  availability_365                48895 non-null  int64  \n",
                        "dtypes: float64(3), int64(7), object(6)\n",
                        "memory usage: 6.0+ MB\n"
                    ]
                }
            ],
            "source": [
                "#nos sirve para visualizar el tipo de dato y tambien los datos null\n",
                "df.info()"
            ]
        },
        {
            "cell_type": "code",
            "execution_count": 7,
            "metadata": {},
            "outputs": [
                {
                    "data": {
                        "text/plain": [
                            "id                                48895\n",
                            "name                              47905\n",
                            "host_id                           37457\n",
                            "host_name                         11452\n",
                            "neighbourhood_group                   5\n",
                            "neighbourhood                       221\n",
                            "latitude                          19048\n",
                            "longitude                         14718\n",
                            "room_type                             3\n",
                            "price                               674\n",
                            "minimum_nights                      109\n",
                            "number_of_reviews                   394\n",
                            "last_review                        1764\n",
                            "reviews_per_month                   937\n",
                            "calculated_host_listings_count       47\n",
                            "availability_365                    366\n",
                            "dtype: int64"
                        ]
                    },
                    "execution_count": 7,
                    "metadata": {},
                    "output_type": "execute_result"
                }
            ],
            "source": [
                "#vemos si hay columnas que solo tengan un valor\n",
                "n_unicos = df.nunique()\n",
                "n_unicos"
            ]
        },
        {
            "cell_type": "code",
            "execution_count": 8,
            "metadata": {},
            "outputs": [
                {
                    "data": {
                        "text/plain": [
                            "np.int64(0)"
                        ]
                    },
                    "execution_count": 8,
                    "metadata": {},
                    "output_type": "execute_result"
                }
            ],
            "source": [
                "#vemos si hay filas duplicadas\n",
                "df.duplicated().sum()"
            ]
        },
        {
            "cell_type": "code",
            "execution_count": 9,
            "metadata": {},
            "outputs": [
                {
                    "data": {
                        "text/html": [
                            "<div>\n",
                            "<style scoped>\n",
                            "    .dataframe tbody tr th:only-of-type {\n",
                            "        vertical-align: middle;\n",
                            "    }\n",
                            "\n",
                            "    .dataframe tbody tr th {\n",
                            "        vertical-align: top;\n",
                            "    }\n",
                            "\n",
                            "    .dataframe thead th {\n",
                            "        text-align: right;\n",
                            "    }\n",
                            "</style>\n",
                            "<table border=\"1\" class=\"dataframe\">\n",
                            "  <thead>\n",
                            "    <tr style=\"text-align: right;\">\n",
                            "      <th></th>\n",
                            "      <th>count</th>\n",
                            "      <th>mean</th>\n",
                            "      <th>std</th>\n",
                            "      <th>min</th>\n",
                            "      <th>25%</th>\n",
                            "      <th>50%</th>\n",
                            "      <th>75%</th>\n",
                            "      <th>max</th>\n",
                            "    </tr>\n",
                            "  </thead>\n",
                            "  <tbody>\n",
                            "    <tr>\n",
                            "      <th>id</th>\n",
                            "      <td>48895.0</td>\n",
                            "      <td>1.901714e+07</td>\n",
                            "      <td>1.098311e+07</td>\n",
                            "      <td>2539.00000</td>\n",
                            "      <td>9.471945e+06</td>\n",
                            "      <td>1.967728e+07</td>\n",
                            "      <td>2.915218e+07</td>\n",
                            "      <td>3.648724e+07</td>\n",
                            "    </tr>\n",
                            "    <tr>\n",
                            "      <th>host_id</th>\n",
                            "      <td>48895.0</td>\n",
                            "      <td>6.762001e+07</td>\n",
                            "      <td>7.861097e+07</td>\n",
                            "      <td>2438.00000</td>\n",
                            "      <td>7.822033e+06</td>\n",
                            "      <td>3.079382e+07</td>\n",
                            "      <td>1.074344e+08</td>\n",
                            "      <td>2.743213e+08</td>\n",
                            "    </tr>\n",
                            "    <tr>\n",
                            "      <th>latitude</th>\n",
                            "      <td>48895.0</td>\n",
                            "      <td>4.072895e+01</td>\n",
                            "      <td>5.453008e-02</td>\n",
                            "      <td>40.49979</td>\n",
                            "      <td>4.069010e+01</td>\n",
                            "      <td>4.072307e+01</td>\n",
                            "      <td>4.076311e+01</td>\n",
                            "      <td>4.091306e+01</td>\n",
                            "    </tr>\n",
                            "    <tr>\n",
                            "      <th>longitude</th>\n",
                            "      <td>48895.0</td>\n",
                            "      <td>-7.395217e+01</td>\n",
                            "      <td>4.615674e-02</td>\n",
                            "      <td>-74.24442</td>\n",
                            "      <td>-7.398307e+01</td>\n",
                            "      <td>-7.395568e+01</td>\n",
                            "      <td>-7.393627e+01</td>\n",
                            "      <td>-7.371299e+01</td>\n",
                            "    </tr>\n",
                            "    <tr>\n",
                            "      <th>price</th>\n",
                            "      <td>48895.0</td>\n",
                            "      <td>1.527207e+02</td>\n",
                            "      <td>2.401542e+02</td>\n",
                            "      <td>0.00000</td>\n",
                            "      <td>6.900000e+01</td>\n",
                            "      <td>1.060000e+02</td>\n",
                            "      <td>1.750000e+02</td>\n",
                            "      <td>1.000000e+04</td>\n",
                            "    </tr>\n",
                            "    <tr>\n",
                            "      <th>minimum_nights</th>\n",
                            "      <td>48895.0</td>\n",
                            "      <td>7.029962e+00</td>\n",
                            "      <td>2.051055e+01</td>\n",
                            "      <td>1.00000</td>\n",
                            "      <td>1.000000e+00</td>\n",
                            "      <td>3.000000e+00</td>\n",
                            "      <td>5.000000e+00</td>\n",
                            "      <td>1.250000e+03</td>\n",
                            "    </tr>\n",
                            "    <tr>\n",
                            "      <th>number_of_reviews</th>\n",
                            "      <td>48895.0</td>\n",
                            "      <td>2.327447e+01</td>\n",
                            "      <td>4.455058e+01</td>\n",
                            "      <td>0.00000</td>\n",
                            "      <td>1.000000e+00</td>\n",
                            "      <td>5.000000e+00</td>\n",
                            "      <td>2.400000e+01</td>\n",
                            "      <td>6.290000e+02</td>\n",
                            "    </tr>\n",
                            "    <tr>\n",
                            "      <th>reviews_per_month</th>\n",
                            "      <td>38843.0</td>\n",
                            "      <td>1.373221e+00</td>\n",
                            "      <td>1.680442e+00</td>\n",
                            "      <td>0.01000</td>\n",
                            "      <td>1.900000e-01</td>\n",
                            "      <td>7.200000e-01</td>\n",
                            "      <td>2.020000e+00</td>\n",
                            "      <td>5.850000e+01</td>\n",
                            "    </tr>\n",
                            "    <tr>\n",
                            "      <th>calculated_host_listings_count</th>\n",
                            "      <td>48895.0</td>\n",
                            "      <td>7.143982e+00</td>\n",
                            "      <td>3.295252e+01</td>\n",
                            "      <td>1.00000</td>\n",
                            "      <td>1.000000e+00</td>\n",
                            "      <td>1.000000e+00</td>\n",
                            "      <td>2.000000e+00</td>\n",
                            "      <td>3.270000e+02</td>\n",
                            "    </tr>\n",
                            "    <tr>\n",
                            "      <th>availability_365</th>\n",
                            "      <td>48895.0</td>\n",
                            "      <td>1.127813e+02</td>\n",
                            "      <td>1.316223e+02</td>\n",
                            "      <td>0.00000</td>\n",
                            "      <td>0.000000e+00</td>\n",
                            "      <td>4.500000e+01</td>\n",
                            "      <td>2.270000e+02</td>\n",
                            "      <td>3.650000e+02</td>\n",
                            "    </tr>\n",
                            "  </tbody>\n",
                            "</table>\n",
                            "</div>"
                        ],
                        "text/plain": [
                            "                                  count          mean           std  \\\n",
                            "id                              48895.0  1.901714e+07  1.098311e+07   \n",
                            "host_id                         48895.0  6.762001e+07  7.861097e+07   \n",
                            "latitude                        48895.0  4.072895e+01  5.453008e-02   \n",
                            "longitude                       48895.0 -7.395217e+01  4.615674e-02   \n",
                            "price                           48895.0  1.527207e+02  2.401542e+02   \n",
                            "minimum_nights                  48895.0  7.029962e+00  2.051055e+01   \n",
                            "number_of_reviews               48895.0  2.327447e+01  4.455058e+01   \n",
                            "reviews_per_month               38843.0  1.373221e+00  1.680442e+00   \n",
                            "calculated_host_listings_count  48895.0  7.143982e+00  3.295252e+01   \n",
                            "availability_365                48895.0  1.127813e+02  1.316223e+02   \n",
                            "\n",
                            "                                       min           25%           50%  \\\n",
                            "id                              2539.00000  9.471945e+06  1.967728e+07   \n",
                            "host_id                         2438.00000  7.822033e+06  3.079382e+07   \n",
                            "latitude                          40.49979  4.069010e+01  4.072307e+01   \n",
                            "longitude                        -74.24442 -7.398307e+01 -7.395568e+01   \n",
                            "price                              0.00000  6.900000e+01  1.060000e+02   \n",
                            "minimum_nights                     1.00000  1.000000e+00  3.000000e+00   \n",
                            "number_of_reviews                  0.00000  1.000000e+00  5.000000e+00   \n",
                            "reviews_per_month                  0.01000  1.900000e-01  7.200000e-01   \n",
                            "calculated_host_listings_count     1.00000  1.000000e+00  1.000000e+00   \n",
                            "availability_365                   0.00000  0.000000e+00  4.500000e+01   \n",
                            "\n",
                            "                                         75%           max  \n",
                            "id                              2.915218e+07  3.648724e+07  \n",
                            "host_id                         1.074344e+08  2.743213e+08  \n",
                            "latitude                        4.076311e+01  4.091306e+01  \n",
                            "longitude                      -7.393627e+01 -7.371299e+01  \n",
                            "price                           1.750000e+02  1.000000e+04  \n",
                            "minimum_nights                  5.000000e+00  1.250000e+03  \n",
                            "number_of_reviews               2.400000e+01  6.290000e+02  \n",
                            "reviews_per_month               2.020000e+00  5.850000e+01  \n",
                            "calculated_host_listings_count  2.000000e+00  3.270000e+02  \n",
                            "availability_365                2.270000e+02  3.650000e+02  "
                        ]
                    },
                    "execution_count": 9,
                    "metadata": {},
                    "output_type": "execute_result"
                }
            ],
            "source": [
                "#podemos ver con exactitud los datos qeu tenemos\n",
                "df.describe().T"
            ]
        },
        {
            "cell_type": "code",
            "execution_count": 10,
            "metadata": {},
            "outputs": [
                {
                    "data": {
                        "text/html": [
                            "<div>\n",
                            "<style scoped>\n",
                            "    .dataframe tbody tr th:only-of-type {\n",
                            "        vertical-align: middle;\n",
                            "    }\n",
                            "\n",
                            "    .dataframe tbody tr th {\n",
                            "        vertical-align: top;\n",
                            "    }\n",
                            "\n",
                            "    .dataframe thead th {\n",
                            "        text-align: right;\n",
                            "    }\n",
                            "</style>\n",
                            "<table border=\"1\" class=\"dataframe\">\n",
                            "  <thead>\n",
                            "    <tr style=\"text-align: right;\">\n",
                            "      <th></th>\n",
                            "      <th>number_of_reviews</th>\n",
                            "      <th>last_review</th>\n",
                            "      <th>reviews_per_month</th>\n",
                            "    </tr>\n",
                            "  </thead>\n",
                            "  <tbody>\n",
                            "    <tr>\n",
                            "      <th>0</th>\n",
                            "      <td>9</td>\n",
                            "      <td>2018-10-19</td>\n",
                            "      <td>0.21</td>\n",
                            "    </tr>\n",
                            "    <tr>\n",
                            "      <th>1</th>\n",
                            "      <td>45</td>\n",
                            "      <td>2019-05-21</td>\n",
                            "      <td>0.38</td>\n",
                            "    </tr>\n",
                            "    <tr>\n",
                            "      <th>2</th>\n",
                            "      <td>0</td>\n",
                            "      <td>NaN</td>\n",
                            "      <td>NaN</td>\n",
                            "    </tr>\n",
                            "    <tr>\n",
                            "      <th>3</th>\n",
                            "      <td>270</td>\n",
                            "      <td>2019-07-05</td>\n",
                            "      <td>4.64</td>\n",
                            "    </tr>\n",
                            "    <tr>\n",
                            "      <th>4</th>\n",
                            "      <td>9</td>\n",
                            "      <td>2018-11-19</td>\n",
                            "      <td>0.10</td>\n",
                            "    </tr>\n",
                            "    <tr>\n",
                            "      <th>...</th>\n",
                            "      <td>...</td>\n",
                            "      <td>...</td>\n",
                            "      <td>...</td>\n",
                            "    </tr>\n",
                            "    <tr>\n",
                            "      <th>48890</th>\n",
                            "      <td>0</td>\n",
                            "      <td>NaN</td>\n",
                            "      <td>NaN</td>\n",
                            "    </tr>\n",
                            "    <tr>\n",
                            "      <th>48891</th>\n",
                            "      <td>0</td>\n",
                            "      <td>NaN</td>\n",
                            "      <td>NaN</td>\n",
                            "    </tr>\n",
                            "    <tr>\n",
                            "      <th>48892</th>\n",
                            "      <td>0</td>\n",
                            "      <td>NaN</td>\n",
                            "      <td>NaN</td>\n",
                            "    </tr>\n",
                            "    <tr>\n",
                            "      <th>48893</th>\n",
                            "      <td>0</td>\n",
                            "      <td>NaN</td>\n",
                            "      <td>NaN</td>\n",
                            "    </tr>\n",
                            "    <tr>\n",
                            "      <th>48894</th>\n",
                            "      <td>0</td>\n",
                            "      <td>NaN</td>\n",
                            "      <td>NaN</td>\n",
                            "    </tr>\n",
                            "  </tbody>\n",
                            "</table>\n",
                            "<p>48895 rows × 3 columns</p>\n",
                            "</div>"
                        ],
                        "text/plain": [
                            "       number_of_reviews last_review  reviews_per_month\n",
                            "0                      9  2018-10-19               0.21\n",
                            "1                     45  2019-05-21               0.38\n",
                            "2                      0         NaN                NaN\n",
                            "3                    270  2019-07-05               4.64\n",
                            "4                      9  2018-11-19               0.10\n",
                            "...                  ...         ...                ...\n",
                            "48890                  0         NaN                NaN\n",
                            "48891                  0         NaN                NaN\n",
                            "48892                  0         NaN                NaN\n",
                            "48893                  0         NaN                NaN\n",
                            "48894                  0         NaN                NaN\n",
                            "\n",
                            "[48895 rows x 3 columns]"
                        ]
                    },
                    "execution_count": 10,
                    "metadata": {},
                    "output_type": "execute_result"
                }
            ],
            "source": [
                "#vemos la relacion de las reviews porque hay tres columnas de ello\n",
                "df[['number_of_reviews', 'last_review', 'reviews_per_month']]"
            ]
        },
        {
            "cell_type": "code",
            "execution_count": null,
            "metadata": {},
            "outputs": [],
            "source": [
                "# borramos reviews_per_month y last_review, tampoco dan información relevante\n",
                "#  ya que también tenemos number_of_reviews. Además tienen muchos nulls"
            ]
        },
        {
            "cell_type": "code",
            "execution_count": 11,
            "metadata": {},
            "outputs": [],
            "source": [
                "df.drop(columns=['reviews_per_month','last_review'], inplace=True)"
            ]
        },
        {
            "cell_type": "code",
            "execution_count": 12,
            "metadata": {},
            "outputs": [
                {
                    "data": {
                        "text/plain": [
                            "(48895, 14)"
                        ]
                    },
                    "execution_count": 12,
                    "metadata": {},
                    "output_type": "execute_result"
                }
            ],
            "source": [
                "df.shape"
            ]
        },
        {
            "cell_type": "code",
            "execution_count": 13,
            "metadata": {},
            "outputs": [
                {
                    "data": {
                        "text/plain": [
                            "id                                False\n",
                            "name                              False\n",
                            "host_id                           False\n",
                            "host_name                         False\n",
                            "neighbourhood_group               False\n",
                            "neighbourhood                     False\n",
                            "latitude                          False\n",
                            "longitude                         False\n",
                            "room_type                         False\n",
                            "price                             False\n",
                            "minimum_nights                    False\n",
                            "number_of_reviews                 False\n",
                            "calculated_host_listings_count    False\n",
                            "availability_365                  False\n",
                            "dtype: bool"
                        ]
                    },
                    "execution_count": 13,
                    "metadata": {},
                    "output_type": "execute_result"
                }
            ],
            "source": [
                "#mirmaos si hay duplicados\n",
                "df.T.duplicated(keep=False)"
            ]
        },
        {
            "cell_type": "code",
            "execution_count": 14,
            "metadata": {},
            "outputs": [],
            "source": [
                "# name y host_name tampoco aportan valor porque al final son nombres y las borramos \n",
                "df.drop(columns=['name', 'host_name'], inplace=True)"
            ]
        },
        {
            "cell_type": "code",
            "execution_count": 15,
            "metadata": {},
            "outputs": [],
            "source": [
                "#eliminamos las filas que no tiene disponibilidad ningún día y donde el precio es = 0 \n",
                "df.drop(df[df['availability_365'] == 0].index, inplace=True)\n",
                "df.drop(df[df['price'] == 0].index, inplace=True)"
            ]
        },
        {
            "cell_type": "code",
            "execution_count": 16,
            "metadata": {},
            "outputs": [
                {
                    "data": {
                        "text/plain": [
                            "(31354, 12)"
                        ]
                    },
                    "execution_count": 16,
                    "metadata": {},
                    "output_type": "execute_result"
                }
            ],
            "source": [
                "df.shape"
            ]
        },
        {
            "cell_type": "code",
            "execution_count": 17,
            "metadata": {},
            "outputs": [
                {
                    "data": {
                        "text/plain": [
                            "id                                0.0\n",
                            "host_id                           0.0\n",
                            "neighbourhood_group               0.0\n",
                            "neighbourhood                     0.0\n",
                            "latitude                          0.0\n",
                            "longitude                         0.0\n",
                            "room_type                         0.0\n",
                            "price                             0.0\n",
                            "minimum_nights                    0.0\n",
                            "number_of_reviews                 0.0\n",
                            "calculated_host_listings_count    0.0\n",
                            "availability_365                  0.0\n",
                            "dtype: float64"
                        ]
                    },
                    "execution_count": 17,
                    "metadata": {},
                    "output_type": "execute_result"
                }
            ],
            "source": [
                "#compruebo que no hay valores nulos\n",
                "df.isnull().mean()*100"
            ]
        },
        {
            "cell_type": "code",
            "execution_count": 18,
            "metadata": {},
            "outputs": [],
            "source": [
                "#borramos estas columnas y nos quedamos con neighbourhood_group, porque sino es redundante la informacion \n",
                "df.drop(columns=[\"neighbourhood\", \"latitude\", \"longitude\"], inplace=True)"
            ]
        },
        {
            "cell_type": "code",
            "execution_count": 19,
            "metadata": {},
            "outputs": [
                {
                    "data": {
                        "text/html": [
                            "<div>\n",
                            "<style scoped>\n",
                            "    .dataframe tbody tr th:only-of-type {\n",
                            "        vertical-align: middle;\n",
                            "    }\n",
                            "\n",
                            "    .dataframe tbody tr th {\n",
                            "        vertical-align: top;\n",
                            "    }\n",
                            "\n",
                            "    .dataframe thead th {\n",
                            "        text-align: right;\n",
                            "    }\n",
                            "</style>\n",
                            "<table border=\"1\" class=\"dataframe\">\n",
                            "  <thead>\n",
                            "    <tr style=\"text-align: right;\">\n",
                            "      <th></th>\n",
                            "      <th>id</th>\n",
                            "      <th>host_id</th>\n",
                            "      <th>neighbourhood_group</th>\n",
                            "      <th>room_type</th>\n",
                            "      <th>price</th>\n",
                            "      <th>minimum_nights</th>\n",
                            "      <th>number_of_reviews</th>\n",
                            "      <th>calculated_host_listings_count</th>\n",
                            "      <th>availability_365</th>\n",
                            "    </tr>\n",
                            "  </thead>\n",
                            "  <tbody>\n",
                            "    <tr>\n",
                            "      <th>0</th>\n",
                            "      <td>2539</td>\n",
                            "      <td>2787</td>\n",
                            "      <td>Brooklyn</td>\n",
                            "      <td>Private room</td>\n",
                            "      <td>149</td>\n",
                            "      <td>1</td>\n",
                            "      <td>9</td>\n",
                            "      <td>6</td>\n",
                            "      <td>365</td>\n",
                            "    </tr>\n",
                            "    <tr>\n",
                            "      <th>1</th>\n",
                            "      <td>2595</td>\n",
                            "      <td>2845</td>\n",
                            "      <td>Manhattan</td>\n",
                            "      <td>Entire home/apt</td>\n",
                            "      <td>225</td>\n",
                            "      <td>1</td>\n",
                            "      <td>45</td>\n",
                            "      <td>2</td>\n",
                            "      <td>355</td>\n",
                            "    </tr>\n",
                            "    <tr>\n",
                            "      <th>2</th>\n",
                            "      <td>3647</td>\n",
                            "      <td>4632</td>\n",
                            "      <td>Manhattan</td>\n",
                            "      <td>Private room</td>\n",
                            "      <td>150</td>\n",
                            "      <td>3</td>\n",
                            "      <td>0</td>\n",
                            "      <td>1</td>\n",
                            "      <td>365</td>\n",
                            "    </tr>\n",
                            "    <tr>\n",
                            "      <th>3</th>\n",
                            "      <td>3831</td>\n",
                            "      <td>4869</td>\n",
                            "      <td>Brooklyn</td>\n",
                            "      <td>Entire home/apt</td>\n",
                            "      <td>89</td>\n",
                            "      <td>1</td>\n",
                            "      <td>270</td>\n",
                            "      <td>1</td>\n",
                            "      <td>194</td>\n",
                            "    </tr>\n",
                            "    <tr>\n",
                            "      <th>5</th>\n",
                            "      <td>5099</td>\n",
                            "      <td>7322</td>\n",
                            "      <td>Manhattan</td>\n",
                            "      <td>Entire home/apt</td>\n",
                            "      <td>200</td>\n",
                            "      <td>3</td>\n",
                            "      <td>74</td>\n",
                            "      <td>1</td>\n",
                            "      <td>129</td>\n",
                            "    </tr>\n",
                            "    <tr>\n",
                            "      <th>...</th>\n",
                            "      <td>...</td>\n",
                            "      <td>...</td>\n",
                            "      <td>...</td>\n",
                            "      <td>...</td>\n",
                            "      <td>...</td>\n",
                            "      <td>...</td>\n",
                            "      <td>...</td>\n",
                            "      <td>...</td>\n",
                            "      <td>...</td>\n",
                            "    </tr>\n",
                            "    <tr>\n",
                            "      <th>48890</th>\n",
                            "      <td>36484665</td>\n",
                            "      <td>8232441</td>\n",
                            "      <td>Brooklyn</td>\n",
                            "      <td>Private room</td>\n",
                            "      <td>70</td>\n",
                            "      <td>2</td>\n",
                            "      <td>0</td>\n",
                            "      <td>2</td>\n",
                            "      <td>9</td>\n",
                            "    </tr>\n",
                            "    <tr>\n",
                            "      <th>48891</th>\n",
                            "      <td>36485057</td>\n",
                            "      <td>6570630</td>\n",
                            "      <td>Brooklyn</td>\n",
                            "      <td>Private room</td>\n",
                            "      <td>40</td>\n",
                            "      <td>4</td>\n",
                            "      <td>0</td>\n",
                            "      <td>2</td>\n",
                            "      <td>36</td>\n",
                            "    </tr>\n",
                            "    <tr>\n",
                            "      <th>48892</th>\n",
                            "      <td>36485431</td>\n",
                            "      <td>23492952</td>\n",
                            "      <td>Manhattan</td>\n",
                            "      <td>Entire home/apt</td>\n",
                            "      <td>115</td>\n",
                            "      <td>10</td>\n",
                            "      <td>0</td>\n",
                            "      <td>1</td>\n",
                            "      <td>27</td>\n",
                            "    </tr>\n",
                            "    <tr>\n",
                            "      <th>48893</th>\n",
                            "      <td>36485609</td>\n",
                            "      <td>30985759</td>\n",
                            "      <td>Manhattan</td>\n",
                            "      <td>Shared room</td>\n",
                            "      <td>55</td>\n",
                            "      <td>1</td>\n",
                            "      <td>0</td>\n",
                            "      <td>6</td>\n",
                            "      <td>2</td>\n",
                            "    </tr>\n",
                            "    <tr>\n",
                            "      <th>48894</th>\n",
                            "      <td>36487245</td>\n",
                            "      <td>68119814</td>\n",
                            "      <td>Manhattan</td>\n",
                            "      <td>Private room</td>\n",
                            "      <td>90</td>\n",
                            "      <td>7</td>\n",
                            "      <td>0</td>\n",
                            "      <td>1</td>\n",
                            "      <td>23</td>\n",
                            "    </tr>\n",
                            "  </tbody>\n",
                            "</table>\n",
                            "<p>31354 rows × 9 columns</p>\n",
                            "</div>"
                        ],
                        "text/plain": [
                            "             id   host_id neighbourhood_group        room_type  price  \\\n",
                            "0          2539      2787            Brooklyn     Private room    149   \n",
                            "1          2595      2845           Manhattan  Entire home/apt    225   \n",
                            "2          3647      4632           Manhattan     Private room    150   \n",
                            "3          3831      4869            Brooklyn  Entire home/apt     89   \n",
                            "5          5099      7322           Manhattan  Entire home/apt    200   \n",
                            "...         ...       ...                 ...              ...    ...   \n",
                            "48890  36484665   8232441            Brooklyn     Private room     70   \n",
                            "48891  36485057   6570630            Brooklyn     Private room     40   \n",
                            "48892  36485431  23492952           Manhattan  Entire home/apt    115   \n",
                            "48893  36485609  30985759           Manhattan      Shared room     55   \n",
                            "48894  36487245  68119814           Manhattan     Private room     90   \n",
                            "\n",
                            "       minimum_nights  number_of_reviews  calculated_host_listings_count  \\\n",
                            "0                   1                  9                               6   \n",
                            "1                   1                 45                               2   \n",
                            "2                   3                  0                               1   \n",
                            "3                   1                270                               1   \n",
                            "5                   3                 74                               1   \n",
                            "...               ...                ...                             ...   \n",
                            "48890               2                  0                               2   \n",
                            "48891               4                  0                               2   \n",
                            "48892              10                  0                               1   \n",
                            "48893               1                  0                               6   \n",
                            "48894               7                  0                               1   \n",
                            "\n",
                            "       availability_365  \n",
                            "0                   365  \n",
                            "1                   355  \n",
                            "2                   365  \n",
                            "3                   194  \n",
                            "5                   129  \n",
                            "...                 ...  \n",
                            "48890                 9  \n",
                            "48891                36  \n",
                            "48892                27  \n",
                            "48893                 2  \n",
                            "48894                23  \n",
                            "\n",
                            "[31354 rows x 9 columns]"
                        ]
                    },
                    "execution_count": 19,
                    "metadata": {},
                    "output_type": "execute_result"
                }
            ],
            "source": [
                "df"
            ]
        },
        {
            "cell_type": "code",
            "execution_count": 24,
            "metadata": {},
            "outputs": [
                {
                    "data": {
                        "text/plain": [
                            "3"
                        ]
                    },
                    "execution_count": 24,
                    "metadata": {},
                    "output_type": "execute_result"
                }
            ],
            "source": [
                "df[\"room_type\"].nunique()"
            ]
        },
        {
            "cell_type": "code",
            "execution_count": 25,
            "metadata": {},
            "outputs": [
                {
                    "data": {
                        "text/plain": [
                            "5"
                        ]
                    },
                    "execution_count": 25,
                    "metadata": {},
                    "output_type": "execute_result"
                }
            ],
            "source": [
                "df['neighbourhood_group'].nunique()"
            ]
        },
        {
            "cell_type": "code",
            "execution_count": 26,
            "metadata": {},
            "outputs": [],
            "source": [
                "#hacemos onehotencoding con roomtype y neighbourhood_group, asi tenemos todos los datos en int\n",
                "df_onehotencoding = pd.get_dummies(df, columns=['room_type', 'neighbourhood_group'], prefix='room', drop_first=True)\n",
                "df = df_onehotencoding"
            ]
        },
        {
            "cell_type": "code",
            "execution_count": 27,
            "metadata": {},
            "outputs": [],
            "source": [
                "#creamos una columna del logaritmo del precio\n",
                "df['log_price'] = np.log(df.price)"
            ]
        },
        {
            "cell_type": "code",
            "execution_count": 28,
            "metadata": {},
            "outputs": [
                {
                    "data": {
                        "text/html": [
                            "<div>\n",
                            "<style scoped>\n",
                            "    .dataframe tbody tr th:only-of-type {\n",
                            "        vertical-align: middle;\n",
                            "    }\n",
                            "\n",
                            "    .dataframe tbody tr th {\n",
                            "        vertical-align: top;\n",
                            "    }\n",
                            "\n",
                            "    .dataframe thead th {\n",
                            "        text-align: right;\n",
                            "    }\n",
                            "</style>\n",
                            "<table border=\"1\" class=\"dataframe\">\n",
                            "  <thead>\n",
                            "    <tr style=\"text-align: right;\">\n",
                            "      <th></th>\n",
                            "      <th>id</th>\n",
                            "      <th>host_id</th>\n",
                            "      <th>price</th>\n",
                            "      <th>minimum_nights</th>\n",
                            "      <th>number_of_reviews</th>\n",
                            "      <th>calculated_host_listings_count</th>\n",
                            "      <th>availability_365</th>\n",
                            "      <th>room_Private room</th>\n",
                            "      <th>room_Shared room</th>\n",
                            "      <th>room_Brooklyn</th>\n",
                            "      <th>room_Manhattan</th>\n",
                            "      <th>room_Queens</th>\n",
                            "      <th>room_Staten Island</th>\n",
                            "      <th>log_price</th>\n",
                            "    </tr>\n",
                            "  </thead>\n",
                            "  <tbody>\n",
                            "    <tr>\n",
                            "      <th>0</th>\n",
                            "      <td>2539</td>\n",
                            "      <td>2787</td>\n",
                            "      <td>149</td>\n",
                            "      <td>1</td>\n",
                            "      <td>9</td>\n",
                            "      <td>6</td>\n",
                            "      <td>365</td>\n",
                            "      <td>True</td>\n",
                            "      <td>False</td>\n",
                            "      <td>True</td>\n",
                            "      <td>False</td>\n",
                            "      <td>False</td>\n",
                            "      <td>False</td>\n",
                            "      <td>5.003946</td>\n",
                            "    </tr>\n",
                            "    <tr>\n",
                            "      <th>1</th>\n",
                            "      <td>2595</td>\n",
                            "      <td>2845</td>\n",
                            "      <td>225</td>\n",
                            "      <td>1</td>\n",
                            "      <td>45</td>\n",
                            "      <td>2</td>\n",
                            "      <td>355</td>\n",
                            "      <td>False</td>\n",
                            "      <td>False</td>\n",
                            "      <td>False</td>\n",
                            "      <td>True</td>\n",
                            "      <td>False</td>\n",
                            "      <td>False</td>\n",
                            "      <td>5.416100</td>\n",
                            "    </tr>\n",
                            "    <tr>\n",
                            "      <th>2</th>\n",
                            "      <td>3647</td>\n",
                            "      <td>4632</td>\n",
                            "      <td>150</td>\n",
                            "      <td>3</td>\n",
                            "      <td>0</td>\n",
                            "      <td>1</td>\n",
                            "      <td>365</td>\n",
                            "      <td>True</td>\n",
                            "      <td>False</td>\n",
                            "      <td>False</td>\n",
                            "      <td>True</td>\n",
                            "      <td>False</td>\n",
                            "      <td>False</td>\n",
                            "      <td>5.010635</td>\n",
                            "    </tr>\n",
                            "    <tr>\n",
                            "      <th>3</th>\n",
                            "      <td>3831</td>\n",
                            "      <td>4869</td>\n",
                            "      <td>89</td>\n",
                            "      <td>1</td>\n",
                            "      <td>270</td>\n",
                            "      <td>1</td>\n",
                            "      <td>194</td>\n",
                            "      <td>False</td>\n",
                            "      <td>False</td>\n",
                            "      <td>True</td>\n",
                            "      <td>False</td>\n",
                            "      <td>False</td>\n",
                            "      <td>False</td>\n",
                            "      <td>4.488636</td>\n",
                            "    </tr>\n",
                            "    <tr>\n",
                            "      <th>5</th>\n",
                            "      <td>5099</td>\n",
                            "      <td>7322</td>\n",
                            "      <td>200</td>\n",
                            "      <td>3</td>\n",
                            "      <td>74</td>\n",
                            "      <td>1</td>\n",
                            "      <td>129</td>\n",
                            "      <td>False</td>\n",
                            "      <td>False</td>\n",
                            "      <td>False</td>\n",
                            "      <td>True</td>\n",
                            "      <td>False</td>\n",
                            "      <td>False</td>\n",
                            "      <td>5.298317</td>\n",
                            "    </tr>\n",
                            "    <tr>\n",
                            "      <th>...</th>\n",
                            "      <td>...</td>\n",
                            "      <td>...</td>\n",
                            "      <td>...</td>\n",
                            "      <td>...</td>\n",
                            "      <td>...</td>\n",
                            "      <td>...</td>\n",
                            "      <td>...</td>\n",
                            "      <td>...</td>\n",
                            "      <td>...</td>\n",
                            "      <td>...</td>\n",
                            "      <td>...</td>\n",
                            "      <td>...</td>\n",
                            "      <td>...</td>\n",
                            "      <td>...</td>\n",
                            "    </tr>\n",
                            "    <tr>\n",
                            "      <th>48890</th>\n",
                            "      <td>36484665</td>\n",
                            "      <td>8232441</td>\n",
                            "      <td>70</td>\n",
                            "      <td>2</td>\n",
                            "      <td>0</td>\n",
                            "      <td>2</td>\n",
                            "      <td>9</td>\n",
                            "      <td>True</td>\n",
                            "      <td>False</td>\n",
                            "      <td>True</td>\n",
                            "      <td>False</td>\n",
                            "      <td>False</td>\n",
                            "      <td>False</td>\n",
                            "      <td>4.248495</td>\n",
                            "    </tr>\n",
                            "    <tr>\n",
                            "      <th>48891</th>\n",
                            "      <td>36485057</td>\n",
                            "      <td>6570630</td>\n",
                            "      <td>40</td>\n",
                            "      <td>4</td>\n",
                            "      <td>0</td>\n",
                            "      <td>2</td>\n",
                            "      <td>36</td>\n",
                            "      <td>True</td>\n",
                            "      <td>False</td>\n",
                            "      <td>True</td>\n",
                            "      <td>False</td>\n",
                            "      <td>False</td>\n",
                            "      <td>False</td>\n",
                            "      <td>3.688879</td>\n",
                            "    </tr>\n",
                            "    <tr>\n",
                            "      <th>48892</th>\n",
                            "      <td>36485431</td>\n",
                            "      <td>23492952</td>\n",
                            "      <td>115</td>\n",
                            "      <td>10</td>\n",
                            "      <td>0</td>\n",
                            "      <td>1</td>\n",
                            "      <td>27</td>\n",
                            "      <td>False</td>\n",
                            "      <td>False</td>\n",
                            "      <td>False</td>\n",
                            "      <td>True</td>\n",
                            "      <td>False</td>\n",
                            "      <td>False</td>\n",
                            "      <td>4.744932</td>\n",
                            "    </tr>\n",
                            "    <tr>\n",
                            "      <th>48893</th>\n",
                            "      <td>36485609</td>\n",
                            "      <td>30985759</td>\n",
                            "      <td>55</td>\n",
                            "      <td>1</td>\n",
                            "      <td>0</td>\n",
                            "      <td>6</td>\n",
                            "      <td>2</td>\n",
                            "      <td>False</td>\n",
                            "      <td>True</td>\n",
                            "      <td>False</td>\n",
                            "      <td>True</td>\n",
                            "      <td>False</td>\n",
                            "      <td>False</td>\n",
                            "      <td>4.007333</td>\n",
                            "    </tr>\n",
                            "    <tr>\n",
                            "      <th>48894</th>\n",
                            "      <td>36487245</td>\n",
                            "      <td>68119814</td>\n",
                            "      <td>90</td>\n",
                            "      <td>7</td>\n",
                            "      <td>0</td>\n",
                            "      <td>1</td>\n",
                            "      <td>23</td>\n",
                            "      <td>True</td>\n",
                            "      <td>False</td>\n",
                            "      <td>False</td>\n",
                            "      <td>True</td>\n",
                            "      <td>False</td>\n",
                            "      <td>False</td>\n",
                            "      <td>4.499810</td>\n",
                            "    </tr>\n",
                            "  </tbody>\n",
                            "</table>\n",
                            "<p>31354 rows × 14 columns</p>\n",
                            "</div>"
                        ],
                        "text/plain": [
                            "             id   host_id  price  minimum_nights  number_of_reviews  \\\n",
                            "0          2539      2787    149               1                  9   \n",
                            "1          2595      2845    225               1                 45   \n",
                            "2          3647      4632    150               3                  0   \n",
                            "3          3831      4869     89               1                270   \n",
                            "5          5099      7322    200               3                 74   \n",
                            "...         ...       ...    ...             ...                ...   \n",
                            "48890  36484665   8232441     70               2                  0   \n",
                            "48891  36485057   6570630     40               4                  0   \n",
                            "48892  36485431  23492952    115              10                  0   \n",
                            "48893  36485609  30985759     55               1                  0   \n",
                            "48894  36487245  68119814     90               7                  0   \n",
                            "\n",
                            "       calculated_host_listings_count  availability_365  room_Private room  \\\n",
                            "0                                   6               365               True   \n",
                            "1                                   2               355              False   \n",
                            "2                                   1               365               True   \n",
                            "3                                   1               194              False   \n",
                            "5                                   1               129              False   \n",
                            "...                               ...               ...                ...   \n",
                            "48890                               2                 9               True   \n",
                            "48891                               2                36               True   \n",
                            "48892                               1                27              False   \n",
                            "48893                               6                 2              False   \n",
                            "48894                               1                23               True   \n",
                            "\n",
                            "       room_Shared room  room_Brooklyn  room_Manhattan  room_Queens  \\\n",
                            "0                 False           True           False        False   \n",
                            "1                 False          False            True        False   \n",
                            "2                 False          False            True        False   \n",
                            "3                 False           True           False        False   \n",
                            "5                 False          False            True        False   \n",
                            "...                 ...            ...             ...          ...   \n",
                            "48890             False           True           False        False   \n",
                            "48891             False           True           False        False   \n",
                            "48892             False          False            True        False   \n",
                            "48893              True          False            True        False   \n",
                            "48894             False          False            True        False   \n",
                            "\n",
                            "       room_Staten Island  log_price  \n",
                            "0                   False   5.003946  \n",
                            "1                   False   5.416100  \n",
                            "2                   False   5.010635  \n",
                            "3                   False   4.488636  \n",
                            "5                   False   5.298317  \n",
                            "...                   ...        ...  \n",
                            "48890               False   4.248495  \n",
                            "48891               False   3.688879  \n",
                            "48892               False   4.744932  \n",
                            "48893               False   4.007333  \n",
                            "48894               False   4.499810  \n",
                            "\n",
                            "[31354 rows x 14 columns]"
                        ]
                    },
                    "execution_count": 28,
                    "metadata": {},
                    "output_type": "execute_result"
                }
            ],
            "source": [
                "df"
            ]
        },
        {
            "cell_type": "code",
            "execution_count": 35,
            "metadata": {},
            "outputs": [],
            "source": [
                "#lo pasamos todo a int\n",
                "df = df.astype(int)"
            ]
        },
        {
            "cell_type": "code",
            "execution_count": 36,
            "metadata": {},
            "outputs": [],
            "source": [
                "X = df.drop(['log_price', 'price'], axis = 1)\n",
                "y = df['log_price']\n",
                "X_train, X_test, y_train, y_test = train_test_split(X, y, test_size=0.2, random_state=42)"
            ]
        },
        {
            "cell_type": "code",
            "execution_count": 37,
            "metadata": {},
            "outputs": [
                {
                    "data": {
                        "text/plain": [
                            "(25083, 12)"
                        ]
                    },
                    "execution_count": 37,
                    "metadata": {},
                    "output_type": "execute_result"
                }
            ],
            "source": [
                "X_train.shape"
            ]
        },
        {
            "cell_type": "code",
            "execution_count": 38,
            "metadata": {},
            "outputs": [
                {
                    "data": {
                        "text/plain": [
                            "(6271, 12)"
                        ]
                    },
                    "execution_count": 38,
                    "metadata": {},
                    "output_type": "execute_result"
                }
            ],
            "source": [
                "X_test.shape"
            ]
        },
        {
            "cell_type": "code",
            "execution_count": 39,
            "metadata": {},
            "outputs": [],
            "source": [
                "#observaciones influyentes\n",
                "X_train_const = sm.add_constant(X_train)\n",
                "model = sm.OLS(y_train, X_train_const).fit()"
            ]
        },
        {
            "cell_type": "code",
            "execution_count": 40,
            "metadata": {},
            "outputs": [],
            "source": [
                "cooks_distance = model.get_influence().cooks_distance[0]"
            ]
        },
        {
            "cell_type": "code",
            "execution_count": 41,
            "metadata": {},
            "outputs": [
                {
                    "data": {
                        "image/png": "[encoded data removed]",
                        "text/plain": [
                            "<Figure size 640x480 with 1 Axes>"
                        ]
                    },
                    "metadata": {},
                    "output_type": "display_data"
                }
            ],
            "source": [
                "plt.scatter(y_train, cooks_distance)\n",
                "plt.xlabel('x')\n",
                "plt.ylabel('Cooks Distance')\n",
                "plt.show()"
            ]
        },
        {
            "cell_type": "code",
            "execution_count": 42,
            "metadata": {},
            "outputs": [],
            "source": [
                "pto_corte = 4/len(X_train)"
            ]
        },
        {
            "cell_type": "code",
            "execution_count": 43,
            "metadata": {},
            "outputs": [
                {
                    "data": {
                        "text/plain": [
                            "array([   16,    29,    66,    73,    88,    92,   100,   172,   175,\n",
                            "         222,   325,   336,   350,   380,   414,   423,   440,   472,\n",
                            "         487,   489,   574,   581,   600,   604,   663,   668,   673,\n",
                            "         678,   721,   726,   732,   736,   738,   785,   799,   805,\n",
                            "         825,   866,   913,   917,   931,   957,   978,   988,   999,\n",
                            "        1155,  1269,  1282,  1356,  1366,  1397,  1410,  1452,  1481,\n",
                            "        1485,  1493,  1499,  1515,  1519,  1525,  1549,  1675,  1704,\n",
                            "        1713,  1733,  1760,  1786,  1805,  1820,  1867,  1908,  1923,\n",
                            "        1948,  1980,  1984,  2039,  2056,  2100,  2165,  2191,  2196,\n",
                            "        2226,  2231,  2240,  2274,  2282,  2304,  2336,  2345,  2346,\n",
                            "        2353,  2355,  2359,  2362,  2379,  2381,  2388,  2412,  2427,\n",
                            "        2435,  2460,  2496,  2521,  2623,  2629,  2638,  2661,  2675,\n",
                            "        2685,  2781,  2804,  2806,  2835,  2838,  2999,  3015,  3036,\n",
                            "        3048,  3059,  3083,  3088,  3091,  3097,  3103,  3111,  3122,\n",
                            "        3145,  3163,  3175,  3183,  3189,  3191,  3211,  3272,  3275,\n",
                            "        3285,  3356,  3437,  3440,  3452,  3456,  3507,  3524,  3537,\n",
                            "        3562,  3564,  3581,  3593,  3632,  3735,  3738,  3801,  3842,\n",
                            "        3870,  3928,  3953,  3971,  3978,  4023,  4030,  4075,  4081,\n",
                            "        4141,  4149,  4162,  4236,  4257,  4279,  4312,  4317,  4333,\n",
                            "        4351,  4371,  4395,  4397,  4430,  4483,  4485,  4486,  4491,\n",
                            "        4496,  4608,  4664,  4696,  4707,  4713,  4721,  4787,  4803,\n",
                            "        4828,  4867,  4876,  4878,  4906,  4920,  4924,  4931,  4958,\n",
                            "        4984,  5026,  5032,  5104,  5120,  5121,  5132,  5183,  5215,\n",
                            "        5324,  5325,  5373,  5385,  5466,  5470,  5493,  5495,  5515,\n",
                            "        5545,  5547,  5552,  5579,  5592,  5612,  5628,  5661,  5663,\n",
                            "        5784,  5852,  5866,  5887,  5898,  5947,  5950,  5951,  6087,\n",
                            "        6138,  6179,  6214,  6296,  6304,  6352,  6370,  6384,  6387,\n",
                            "        6427,  6435,  6513,  6541,  6601,  6620,  6625,  6644,  6649,\n",
                            "        6659,  6664,  6667,  6669,  6684,  6691,  6701,  6724,  6733,\n",
                            "        6739,  6747,  6766,  6768,  6792,  6863,  6923,  6927,  6934,\n",
                            "        6936,  7015,  7027,  7065,  7112,  7176,  7226,  7231,  7256,\n",
                            "        7264,  7270,  7279,  7286,  7289,  7410,  7415,  7447,  7483,\n",
                            "        7544,  7569,  7580,  7609,  7635,  7671,  7709,  7748,  7749,\n",
                            "        7770,  7810,  7818,  7832,  7860,  7912,  7936,  7943,  8028,\n",
                            "        8030,  8082,  8129,  8143,  8144,  8171,  8219,  8254,  8265,\n",
                            "        8281,  8285,  8314,  8344,  8356,  8500,  8520,  8609,  8624,\n",
                            "        8630,  8677,  8692,  8757,  8772,  8804,  8889,  8938,  8942,\n",
                            "        8954,  8984,  8985,  9004,  9017,  9053,  9067,  9245,  9264,\n",
                            "        9265,  9306,  9323,  9326,  9347,  9444,  9475,  9652,  9653,\n",
                            "        9667,  9673,  9709,  9711,  9732,  9733,  9735,  9742,  9810,\n",
                            "        9920,  9935,  9950,  9985, 10010, 10027, 10031, 10042, 10060,\n",
                            "       10069, 10095, 10113, 10164, 10170, 10193, 10236, 10270, 10293,\n",
                            "       10338, 10346, 10401, 10416, 10473, 10525, 10527, 10545, 10549,\n",
                            "       10654, 10692, 10696, 10724, 10767, 10831, 10841, 10900, 10902,\n",
                            "       10910, 10934, 10953, 10981, 11027, 11062, 11064, 11077, 11081,\n",
                            "       11108, 11114, 11115, 11178, 11197, 11203, 11219, 11281, 11286,\n",
                            "       11354, 11396, 11418, 11424, 11443, 11445, 11456, 11476, 11504,\n",
                            "       11512, 11573, 11575, 11643, 11652, 11654, 11694, 11728, 11734,\n",
                            "       11754, 11759, 11764, 11773, 11824, 11834, 11869, 11920, 11923,\n",
                            "       11931, 11969, 11997, 12057, 12110, 12120, 12153, 12238, 12241,\n",
                            "       12318, 12346, 12387, 12426, 12432, 12444, 12513, 12562, 12612,\n",
                            "       12691, 12723, 12751, 12779, 12800, 12802, 12808, 12809, 12830,\n",
                            "       12836, 12850, 12883, 12905, 12925, 12934, 12970, 12982, 13004,\n",
                            "       13007, 13051, 13062, 13154, 13162, 13189, 13190, 13191, 13195,\n",
                            "       13216, 13256, 13296, 13365, 13394, 13494, 13520, 13524, 13615,\n",
                            "       13619, 13649, 13688, 13702, 13765, 13862, 13885, 13889, 13931,\n",
                            "       13992, 14001, 14040, 14042, 14087, 14148, 14209, 14281, 14284,\n",
                            "       14286, 14315, 14318, 14358, 14397, 14538, 14546, 14557, 14577,\n",
                            "       14593, 14608, 14611, 14623, 14628, 14672, 14674, 14686, 14689,\n",
                            "       14696, 14751, 14766, 14771, 14870, 14881, 14887, 14911, 14931,\n",
                            "       15022, 15140, 15179, 15183, 15238, 15250, 15255, 15258, 15281,\n",
                            "       15316, 15360, 15361, 15420, 15455, 15457, 15537, 15568, 15602,\n",
                            "       15625, 15665, 15676, 15678, 15722, 15801, 15816, 16001, 16062,\n",
                            "       16080, 16121, 16160, 16177, 16216, 16236, 16238, 16258, 16298,\n",
                            "       16317, 16320, 16334, 16348, 16383, 16400, 16417, 16430, 16470,\n",
                            "       16486, 16495, 16502, 16518, 16549, 16552, 16595, 16597, 16612,\n",
                            "       16624, 16659, 16694, 16721, 16809, 16900, 16903, 16906, 16927,\n",
                            "       16942, 16954, 16955, 16960, 16964, 16986, 16990, 17013, 17019,\n",
                            "       17038, 17046, 17067, 17095, 17115, 17157, 17182, 17241, 17247,\n",
                            "       17326, 17336, 17339, 17388, 17389, 17403, 17417, 17454, 17471,\n",
                            "       17473, 17540, 17615, 17641, 17645, 17686, 17735, 17774, 17806,\n",
                            "       17825, 17856, 17878, 17895, 17921, 17953, 18039, 18063, 18073,\n",
                            "       18079, 18115, 18124, 18144, 18173, 18192, 18193, 18205, 18238,\n",
                            "       18285, 18330, 18331, 18336, 18346, 18352, 18371, 18394, 18470,\n",
                            "       18531, 18532, 18567, 18597, 18621, 18638, 18666, 18673, 18762,\n",
                            "       18805, 18818, 18819, 18828, 18847, 18856, 18864, 18865, 18965,\n",
                            "       18999, 19082, 19095, 19130, 19146, 19182, 19194, 19289, 19341,\n",
                            "       19348, 19364, 19365, 19385, 19394, 19431, 19438, 19464, 19474,\n",
                            "       19492, 19493, 19529, 19552, 19569, 19576, 19617, 19619, 19670,\n",
                            "       19675, 19708, 19743, 19769, 19798, 19800, 19820, 19856, 19868,\n",
                            "       19870, 19924, 19930, 19973, 19980, 19982, 20029, 20110, 20155,\n",
                            "       20158, 20174, 20218, 20258, 20281, 20284, 20294, 20300, 20349,\n",
                            "       20393, 20396, 20401, 20517, 20564, 20595, 20608, 20611, 20614,\n",
                            "       20671, 20675, 20692, 20715, 20718, 20722, 20876, 20923, 20924,\n",
                            "       20934, 20946, 21110, 21154, 21182, 21217, 21224, 21232, 21240,\n",
                            "       21244, 21262, 21274, 21278, 21296, 21357, 21477, 21485, 21515,\n",
                            "       21530, 21594, 21609, 21686, 21695, 21738, 21753, 21777, 21817,\n",
                            "       21835, 21856, 21869, 21872, 21897, 21929, 21975, 21978, 21999,\n",
                            "       22021, 22026, 22038, 22087, 22177, 22191, 22242, 22244, 22285,\n",
                            "       22315, 22318, 22384, 22393, 22434, 22483, 22522, 22547, 22582,\n",
                            "       22653, 22660, 22671, 22679, 22687, 22700, 22710, 22724, 22736,\n",
                            "       22745, 22776, 22788, 22798, 22805, 22809, 22826, 22876, 22896,\n",
                            "       22941, 22954, 22967, 23009, 23018, 23059, 23063, 23153, 23156,\n",
                            "       23167, 23175, 23179, 23232, 23233, 23245, 23253, 23280, 23281,\n",
                            "       23286, 23307, 23320, 23347, 23401, 23416, 23419, 23420, 23455,\n",
                            "       23465, 23483, 23486, 23494, 23496, 23511, 23616, 23619, 23620,\n",
                            "       23662, 23687, 23725, 23727, 23742, 23761, 23833, 23886, 23895,\n",
                            "       23931, 23944, 23955, 24016, 24064, 24120, 24131, 24144, 24182,\n",
                            "       24265, 24300, 24301, 24317, 24377, 24416, 24457, 24475, 24486,\n",
                            "       24502, 24545, 24559, 24616, 24617, 24626, 24687, 24698, 24740,\n",
                            "       24868, 24892, 24900, 24912, 24933, 24953, 24995, 24996, 25051,\n",
                            "       25060])"
                        ]
                    },
                    "execution_count": 43,
                    "metadata": {},
                    "output_type": "execute_result"
                }
            ],
            "source": [
                "idx_influyentes = np.where(cooks_distance>pto_corte)[0]\n",
                "idx_influyentes"
            ]
        },
        {
            "cell_type": "code",
            "execution_count": 46,
            "metadata": {},
            "outputs": [],
            "source": [
                "#QUITAMOS LAS VIVIENDAS DONDE HAY DATOS INFLUYENTES\n",
                "X_train1 = X_train.loc[~X_train.index.isin(X_train.index[idx_influyentes]),:]\n",
                "y_train1 = y_train.loc[~X_train.index.isin(X_train.index[idx_influyentes])]"
            ]
        },
        {
            "cell_type": "code",
            "execution_count": 50,
            "metadata": {},
            "outputs": [],
            "source": [
                "#importancia de caracteristicas\n",
                "xgb_model = xgb.XGBRegressor(objective='reg:squarederror', random_state=42)\n",
                "xgb_model.fit(X_train1, y_train1)\n",
                "dict_data = {'Feature': X_train1.columns,'Importancia': xgb_model.feature_importances_ * 100}\n",
                "df_imp = pd.DataFrame(dict_data)\n",
                "df_imp.sort_values(by='Importancia', ascending=False, inplace=True)"
            ]
        },
        {
            "cell_type": "code",
            "execution_count": 53,
            "metadata": {},
            "outputs": [
                {
                    "data": {
                        "text/html": [
                            "<div>\n",
                            "<style scoped>\n",
                            "    .dataframe tbody tr th:only-of-type {\n",
                            "        vertical-align: middle;\n",
                            "    }\n",
                            "\n",
                            "    .dataframe tbody tr th {\n",
                            "        vertical-align: top;\n",
                            "    }\n",
                            "\n",
                            "    .dataframe thead th {\n",
                            "        text-align: right;\n",
                            "    }\n",
                            "</style>\n",
                            "<table border=\"1\" class=\"dataframe\">\n",
                            "  <thead>\n",
                            "    <tr style=\"text-align: right;\">\n",
                            "      <th></th>\n",
                            "      <th>Feature</th>\n",
                            "      <th>Importancia</th>\n",
                            "    </tr>\n",
                            "  </thead>\n",
                            "  <tbody>\n",
                            "    <tr>\n",
                            "      <th>6</th>\n",
                            "      <td>room_Private room</td>\n",
                            "      <td>47.627754</td>\n",
                            "    </tr>\n",
                            "    <tr>\n",
                            "      <th>7</th>\n",
                            "      <td>room_Shared room</td>\n",
                            "      <td>38.235123</td>\n",
                            "    </tr>\n",
                            "    <tr>\n",
                            "      <th>9</th>\n",
                            "      <td>room_Manhattan</td>\n",
                            "      <td>7.782162</td>\n",
                            "    </tr>\n",
                            "    <tr>\n",
                            "      <th>8</th>\n",
                            "      <td>room_Brooklyn</td>\n",
                            "      <td>1.321247</td>\n",
                            "    </tr>\n",
                            "  </tbody>\n",
                            "</table>\n",
                            "</div>"
                        ],
                        "text/plain": [
                            "             Feature  Importancia\n",
                            "6  room_Private room    47.627754\n",
                            "7   room_Shared room    38.235123\n",
                            "9     room_Manhattan     7.782162\n",
                            "8      room_Brooklyn     1.321247"
                        ]
                    },
                    "execution_count": 53,
                    "metadata": {},
                    "output_type": "execute_result"
                }
            ],
            "source": [
                "df_imp[df_imp['Importancia']>=1]"
            ]
        },
        {
            "cell_type": "code",
            "execution_count": 54,
            "metadata": {},
            "outputs": [
                {
                    "name": "stderr",
                    "output_type": "stream",
                    "text": [
                        "/tmp/ipykernel_2386/244323815.py:1: SettingWithCopyWarning: \n",
                        "A value is trying to be set on a copy of a slice from a DataFrame\n",
                        "\n",
                        "See the caveats in the documentation: https://pandas.pydata.org/pandas-docs/stable/user_guide/indexing.html#returning-a-view-versus-a-copy\n",
                        "  X_train1.drop(df_imp[df_imp['Importancia']<1]['Feature'], axis=1, inplace=True)\n"
                    ]
                }
            ],
            "source": [
                "X_train1.drop(df_imp[df_imp['Importancia']<1]['Feature'], axis=1, inplace=True)\n",
                "X_test.drop(df_imp[df_imp['Importancia']<1]['Feature'], axis=1, inplace=True)"
            ]
        },
        {
            "cell_type": "code",
            "execution_count": 55,
            "metadata": {},
            "outputs": [
                {
                    "data": {
                        "text/plain": [
                            "(24173, 4)"
                        ]
                    },
                    "execution_count": 55,
                    "metadata": {},
                    "output_type": "execute_result"
                }
            ],
            "source": [
                "X_train1.shape"
            ]
        },
        {
            "cell_type": "code",
            "execution_count": 56,
            "metadata": {},
            "outputs": [
                {
                    "data": {
                        "text/plain": [
                            "<Axes: >"
                        ]
                    },
                    "execution_count": 56,
                    "metadata": {},
                    "output_type": "execute_result"
                },
                {
                    "data": {
                        "image/png": "[encoded data removed]",
                        "text/plain": [
                            "<Figure size 2000x2000 with 2 Axes>"
                        ]
                    },
                    "metadata": {},
                    "output_type": "display_data"
                }
            ],
            "source": [
                "X_corr = X_train1.copy()\n",
                "X_corr['y'] = y_train1\n",
                "corr = X_corr.corr()\n",
                "mask = np.triu(np.ones_like(corr, dtype=bool))\n",
                "plt.figure(figsize=(20,20))\n",
                "sns.heatmap(corr, mask=mask, annot=True, cmap='coolwarm', linewidths=0.5, fmt='.2f')"
            ]
        },
        {
            "cell_type": "code",
            "execution_count": 57,
            "metadata": {},
            "outputs": [
                {
                    "name": "stdout",
                    "output_type": "stream",
                    "text": [
                        "                            OLS Regression Results                            \n",
                        "==============================================================================\n",
                        "Dep. Variable:              log_price   R-squared:                       0.415\n",
                        "Model:                            OLS   Adj. R-squared:                  0.415\n",
                        "Method:                 Least Squares   F-statistic:                     1485.\n",
                        "Date:                Sat, 31 May 2025   Prob (F-statistic):               0.00\n",
                        "Time:                        16:53:53   Log-Likelihood:                -22387.\n",
                        "No. Observations:               25083   AIC:                         4.480e+04\n",
                        "Df Residuals:                   25070   BIC:                         4.490e+04\n",
                        "Df Model:                          12                                         \n",
                        "Covariance Type:            nonrobust                                         \n",
                        "==================================================================================================\n",
                        "                                     coef    std err          t      P>|t|      [0.025      0.975]\n",
                        "--------------------------------------------------------------------------------------------------\n",
                        "const                              4.2117      0.026    164.713      0.000       4.162       4.262\n",
                        "id                               3.41e-11   4.53e-10      0.075      0.940   -8.55e-10    9.23e-10\n",
                        "host_id                         9.101e-11   5.46e-11      1.666      0.096   -1.61e-11    1.98e-10\n",
                        "minimum_nights                    -0.0022      0.000    -13.325      0.000      -0.002      -0.002\n",
                        "number_of_reviews                 -0.0009   8.33e-05    -11.136      0.000      -0.001      -0.001\n",
                        "calculated_host_listings_count -6.301e-05   9.67e-05     -0.652      0.515      -0.000       0.000\n",
                        "availability_365                   0.0006   3.12e-05     20.144      0.000       0.001       0.001\n",
                        "room_Private room                 -0.7900      0.008   -100.978      0.000      -0.805      -0.775\n",
                        "room_Shared room                  -1.2721      0.023    -55.407      0.000      -1.317      -1.227\n",
                        "room_Brooklyn                      0.2854      0.023     12.500      0.000       0.241       0.330\n",
                        "room_Manhattan                     0.6187      0.023     27.101      0.000       0.574       0.663\n",
                        "room_Queens                        0.1224      0.024      5.078      0.000       0.075       0.170\n",
                        "room_Staten Island                -0.0006      0.041     -0.015      0.988      -0.082       0.080\n",
                        "==============================================================================\n",
                        "Omnibus:                     2718.866   Durbin-Watson:                   2.013\n",
                        "Prob(Omnibus):                  0.000   Jarque-Bera (JB):             7880.610\n",
                        "Skew:                           0.590   Prob(JB):                         0.00\n",
                        "Kurtosis:                       5.480   Cond. No.                     1.73e+09\n",
                        "==============================================================================\n",
                        "\n",
                        "Notes:\n",
                        "[1] Standard Errors assume that the covariance matrix of the errors is correctly specified.\n",
                        "[2] The condition number is large, 1.73e+09. This might indicate that there are\n",
                        "strong multicollinearity or other numerical problems.\n"
                    ]
                }
            ],
            "source": [
                "print(model.summary())"
            ]
        },
        {
            "cell_type": "code",
            "execution_count": 58,
            "metadata": {},
            "outputs": [],
            "source": [
                "X_train1.to_csv('../data/processed/x_train1.csv', index=False)\n",
                "y_train1.to_csv('../data/processed/y_train1.csv', index=False)\n",
                "X_test.to_csv('../data/processed/x_test.csv', index=False)\n",
                "y_test.to_csv('../data/processed/y_test.csv', index=False)"
            ]
        }
    ],
    "metadata": {
        "kernelspec": {
            "display_name": "Python 3",
            "language": "python",
            "name": "python3"
        },
        "language_info": {
            "codemirror_mode": {
                "name": "ipython",
                "version": 3
            },
            "file_extension": ".py",
            "mimetype": "text/x-python",
            "name": "python",
            "nbconvert_exporter": "python",
            "pygments_lexer": "ipython3",
            "version": "3.11.4"
        },
        "orig_nbformat": 4
    },
    "nbformat": 4,
    "nbformat_minor": 2
}
